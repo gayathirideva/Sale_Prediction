# Random Forest Method 

# Assuming 'data' is your DataFrame with features and target variable

# Select features and target variable
#TargetColumnName = ['Store', 'Type', 'Size', 'Temperature', 'Fuel_Price', 'CPI', 'Unemployment', 'IsHoliday', 'Weekly_Sales', 'Total_MarkDown', 'Expected_Sales']
X = final_dataset.drop('Temperature', axis=1)
y = final_dataset['Temperature']

# Split the data into training and testing sets
X_train, X_test, y_train, y_test = train_test_split(X, y, test_size=0.2, random_state=42)

# Choose the number of trees in the forest (n_estimators) and other hyperparameters
n_estimators = 100
max_depth = None  # You can adjust this based on your problem

# Create a Random Forest Regressor
rf_model = RandomForestRegressor(n_estimators=n_estimators, max_depth=max_depth, random_state=42)

# Train the model
rf_model.fit(X_train, y_train)

# Make predictions on the testing set
y_pred = rf_model.predict(X_test)

# Evaluate the model
mse = mean_squared_error(y_test, y_pred)
print(f'Mean Squared Error: {mse}')

rmse = mean_squared_error(y_test, y_pred, squared=False)  # Calculate RMSE
print(f'Root Mean Squared Error: {rmse}')

mae = mean_absolute_error(y_test, y_pred)

print(f'Mean Absolute Error: {mae}')

# Store predictions in a file
#predictions_df = pd.DataFrame({'Actual': y_test, 'Predicted': y_pred})
#predictions_df.to_csv('predictions_rf.csv', index=False)
